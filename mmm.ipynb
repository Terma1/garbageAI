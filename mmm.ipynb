{
 "cells": [
  {
   "cell_type": "code",
   "execution_count": 2,
   "metadata": {},
   "outputs": [],
   "source": [
    "import pandas as pd\n",
    "df = pd.read_csv('abfallkalender-wuerzburg.csv', sep=';')"
   ]
  },
  {
   "cell_type": "code",
   "execution_count": 8,
   "metadata": {},
   "outputs": [
    {
     "data": {
      "text/plain": [
       "1738"
      ]
     },
     "execution_count": 8,
     "metadata": {},
     "output_type": "execute_result"
    }
   ],
   "source": [
    "sum(df.id.unique()==df.id)"
   ]
  },
  {
   "cell_type": "code",
   "execution_count": 11,
   "metadata": {},
   "outputs": [
    {
     "data": {
      "text/plain": [
       "0           {\"@id\": \"403108\", \"name\": \"Heuchelhof innen\"}\n",
       "1                    {\"@id\": \"19938\", \"name\": \"Grombühl\"}\n",
       "2       {\"@id\": \"19936\", \"name\": \"Dürrbach alle mit Ha...\n",
       "3           {\"@id\": \"403108\", \"name\": \"Heuchelhof innen\"}\n",
       "4                {\"@id\": \"19939\", \"name\": \"Heidingsfeld\"}\n",
       "                              ...                        \n",
       "1733                 {\"@id\": \"19941\", \"name\": \"Lengfeld\"}\n",
       "1734                 {\"@id\": \"19946\", \"name\": \"Zellerau\"}\n",
       "1735             {\"@id\": \"403103\", \"name\": \"Mainviertel\"}\n",
       "1736             {\"@id\": \"401083\", \"name\": \"Pilziggrund\"}\n",
       "1737                 {\"@id\": \"19941\", \"name\": \"Lengfeld\"}\n",
       "Name: stadtteil-json, Length: 1738, dtype: object"
      ]
     },
     "execution_count": 11,
     "metadata": {},
     "output_type": "execute_result"
    }
   ],
   "source": [
    "df['stadtteil-json']"
   ]
  },
  {
   "cell_type": "code",
   "execution_count": 12,
   "metadata": {},
   "outputs": [
    {
     "data": {
      "text/plain": [
       "Index(['id', 'titel', 'kategorie', 'Datum', 'Was & Wo', 'text',\n",
       "       'stadtteil-json', 'bild', 'Stadtteil', 'stadtteil_id'],\n",
       "      dtype='object')"
      ]
     },
     "execution_count": 12,
     "metadata": {},
     "output_type": "execute_result"
    }
   ],
   "source": [
    "df.columns"
   ]
  },
  {
   "cell_type": "code",
   "execution_count": 15,
   "metadata": {},
   "outputs": [
    {
     "data": {
      "text/plain": [
       "stadtteil_id\n",
       "403108    191\n",
       "19936      98\n",
       "19939      98\n",
       "19946      98\n",
       "19945      98\n",
       "19935      98\n",
       "19937      98\n",
       "19938      98\n",
       "19943      97\n",
       "19940      96\n",
       "403107     96\n",
       "19941      96\n",
       "401083     96\n",
       "19944      95\n",
       "506176     95\n",
       "19942      95\n",
       "403103     95\n",
       "Name: count, dtype: int64"
      ]
     },
     "execution_count": 15,
     "metadata": {},
     "output_type": "execute_result"
    }
   ],
   "source": [
    "df.stadtteil_id.value_counts()"
   ]
  },
  {
   "cell_type": "code",
   "execution_count": 17,
   "metadata": {},
   "outputs": [
    {
     "data": {
      "text/plain": [
       "Was & Wo\n",
       "Bioabfall Heuchelhof innen\\tinnerhalb des Straßburger Rings                                        74\n",
       "Restmüll vierzehntägig Heuchelhof innen\\tinnerhalb des Straßburger Rings                           40\n",
       "Gelber Sack vierzehntägig Heuchelhof innen\\tinnerhalb des Straßburger Rings außer Place de Caen    39\n",
       "Papier vierzehntägig Heuchelhof innen\\tinnerhalb des Straßburger Rings                             38\n",
       "Bioabfall Heuchelhof außen\\taußerhalb des Straßburger Rings                                        37\n",
       "                                                                                                   ..\n",
       "Versbach, St.-Rochus-Straße / Untere Hofgasse, 10:00 - 11:00 Uhr                                    3\n",
       "Zellerau, Wredestraße (Glascontainer), 8:30 - 9:30 Uhr                                              3\n",
       "Dürrbachau, Alfred-Nobelstraße (ggü. Lebensmittelmarkt), 10:00 - 11:00 Uhr                          3\n",
       "Grombühl, Wagnerplatz, 8:30 - 9:30 Uhr                                                              2\n",
       "Grombühl, Wagnerplatz 8:30 - 9:30 Uhr                                                               1\n",
       "Name: count, Length: 77, dtype: int64"
      ]
     },
     "execution_count": 17,
     "metadata": {},
     "output_type": "execute_result"
    }
   ],
   "source": [
    "df['Was & Wo'].value_counts()"
   ]
  },
  {
   "cell_type": "code",
   "execution_count": 22,
   "metadata": {},
   "outputs": [
    {
     "data": {
      "text/plain": [
       "Stadtteil\n",
       "Heuchelhof innen           191\n",
       "Dürrbach alle mit Hafen     98\n",
       "Heidingsfeld                98\n",
       "Zellerau                    98\n",
       "Versbach                    98\n",
       "Altstadt                    98\n",
       "Frauenland                  98\n",
       "Grombühl                    98\n",
       "Sanderau                    97\n",
       "Rottenbauer                 96\n",
       "Heuchelhof aussen           96\n",
       "Lengfeld                    96\n",
       "Pilziggrund                 96\n",
       "Steinbachtal                95\n",
       "Neumühle                    95\n",
       "Lindleinsmühle              95\n",
       "Mainviertel                 95\n",
       "Name: count, dtype: int64"
      ]
     },
     "execution_count": 22,
     "metadata": {},
     "output_type": "execute_result"
    }
   ],
   "source": [
    "df.Stadtteil.value_counts()"
   ]
  },
  {
   "cell_type": "code",
   "execution_count": null,
   "metadata": {},
   "outputs": [],
   "source": []
  }
 ],
 "metadata": {
  "kernelspec": {
   "display_name": "Python 3",
   "language": "python",
   "name": "python3"
  },
  "language_info": {
   "codemirror_mode": {
    "name": "ipython",
    "version": 3
   },
   "file_extension": ".py",
   "mimetype": "text/x-python",
   "name": "python",
   "nbconvert_exporter": "python",
   "pygments_lexer": "ipython3",
   "version": "3.12.8"
  }
 },
 "nbformat": 4,
 "nbformat_minor": 2
}
